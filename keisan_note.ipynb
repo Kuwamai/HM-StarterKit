{
 "cells": [
  {
   "cell_type": "code",
   "execution_count": 14,
   "metadata": {},
   "outputs": [],
   "source": [
    "import math\n",
    "\n",
    "section_length = 0.09\n",
    "offset_length = 0.005\n",
    "turn_vel = 0.2\n",
    "turn_radius = section_length / 2 - offset_length\n",
    "turn_time = 2 * math.pi * turn_radius / 4 / turn_vel\n",
    "turn_ang_vel = math.pi * 2\n",
    "turn_ang = math.pi / 2\n",
    "turn_ang_acc = turn_ang_vel ** 2 / (turn_time * turn_ang_vel - turn_ang)"
   ]
  },
  {
   "cell_type": "code",
   "execution_count": 16,
   "metadata": {},
   "outputs": [
    {
     "name": "stdout",
     "output_type": "stream",
     "text": [
      "offset_length\n",
      "0.005\n",
      "turn_vel\n",
      "0.2\n",
      "turn_ang_vel\n",
      "6.283185307179586\n",
      "turn_ang_acc\n",
      "97.9310668852637\n"
     ]
    }
   ],
   "source": [
    "t_1 = turn_ang_vel / turn_ang_acc\n",
    "t_2 = turn_time - t_1 * 2\n",
    "dousuka = turn_ang_vel * t_2 + turn_ang_vel * t_1\n",
    "dounannsuka = t_1 * 2 + t_2\n",
    "print(\"offset_length\")\n",
    "print(offset_length)\n",
    "print(\"turn_vel\")\n",
    "print(turn_vel)\n",
    "print(\"turn_ang_vel\")\n",
    "print(turn_ang_vel)\n",
    "print(\"turn_ang_acc\")\n",
    "print(turn_ang_acc)"
   ]
  },
  {
   "cell_type": "code",
   "execution_count": null,
   "metadata": {},
   "outputs": [],
   "source": []
  }
 ],
 "metadata": {
  "interpreter": {
   "hash": "69a8372b5dfa333e61e8e630c702ea39a24c6185bc37a41993f6c2bc846f47ff"
  },
  "kernelspec": {
   "display_name": "Python 3.10.2 64-bit",
   "language": "python",
   "name": "python3"
  },
  "language_info": {
   "codemirror_mode": {
    "name": "ipython",
    "version": 3
   },
   "file_extension": ".py",
   "mimetype": "text/x-python",
   "name": "python",
   "nbconvert_exporter": "python",
   "pygments_lexer": "ipython3",
   "version": "3.10.2"
  },
  "orig_nbformat": 4
 },
 "nbformat": 4,
 "nbformat_minor": 2
}
